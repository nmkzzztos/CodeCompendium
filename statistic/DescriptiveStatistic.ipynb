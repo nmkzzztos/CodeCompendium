{
 "cells": [
  {
   "cell_type": "markdown",
   "metadata": {},
   "source": [
    "## Descriptive Statistic of the Data\n",
    "\n",
    "is a way to describe the data in a meaningful way. It is a way to describe the data in a way that is understandable."
   ]
  },
  {
   "cell_type": "markdown",
   "metadata": {},
   "source": [
    "### Scales of Measurement\n",
    "\n",
    "- Nominal (Categorical)\n",
    "    - Example: [dog, cat, bird]\n",
    "- Ordinal (Categorical with order)\n",
    "    - Example: [small, medium, large]\n",
    "- Interval (Numerical, equal intervals)\n",
    "    - Example: [ $5^{\\circ}C$, $10^{\\circ}C$, $15^{\\circ}C$, $20^{\\circ}C$ ]\n",
    "- Ratio (Numerical, equal intervals, absolute zero)\n",
    "    - Example: [ $0^{\\circ}K$, $5^{\\circ}K$, $10^{\\circ}K$, $15^{\\circ}K$ ]\n",
    "\n",
    "$\\green{\\text{all scales of measurement can be converted to upper scales of measurement,}}\\red{\\text{ but not vice versa}}$\n"
   ]
  },
  {
   "cell_type": "markdown",
   "metadata": {},
   "source": [
    "### Population vs Sample\n",
    "\n",
    "- Population: the entire set of items from which data can be selected\n",
    "    - Example: Humans with cancer\n",
    "- Sample: a subset of the population\n",
    "    - Example: 100 humans with cancer"
   ]
  },
  {
   "cell_type": "markdown",
   "metadata": {},
   "source": [
    "### Parameters\n",
    "\n",
    "-   **Mean** is the average of the data. It is the sum of all the data divided by the number of data points. It is the center of the data.\n",
    "    - $\\mu = \\frac{\\sum_{i=1}^{n} x_i}{n}$\n",
    "-   **Modus** is the most frequent data point in the data.\n",
    "    - $modus = \\frac{1}{n} \\sum_{i=1}^{n} x_i$\n",
    "-   **Median** is the middle data point in the data. It is the data point that is in the middle of the data when the data is sorted.\n",
    "    - $median = \\frac{1}{n} \\sum_{i=1}^{n} x_i$"
   ]
  },
  {
   "cell_type": "code",
   "execution_count": 14,
   "metadata": {},
   "outputs": [
    {
     "name": "stdout",
     "output_type": "stream",
     "text": [
      "2\n"
     ]
    }
   ],
   "source": [
    "def mean(array):\n",
    "    return sum(array) / len(array)\n",
    "\n",
    "def median(array):\n",
    "    array.sort()\n",
    "    if len(array) % 2 == 0:\n",
    "        return (array[len(array) // 2] + array[len(array) // 2 - 1]) / 2\n",
    "    else:\n",
    "        return array[len(array) // 2]\n",
    "    \n",
    "def mode(array):\n",
    "    array.sort()\n",
    "    freq = {}\n",
    "    for i in array:\n",
    "        if i in freq:\n",
    "            freq[i] += 1\n",
    "        else:\n",
    "            freq[i] = 1\n",
    "    mode = max(freq, key = freq.get)\n",
    "    return mode"
   ]
  },
  {
   "cell_type": "markdown",
   "metadata": {},
   "source": [
    "### Frequency distribution\n",
    "\n",
    "-   **Frequency** is the number of times a data point appears in the data.\n",
    "    - **Frequency distribution** is a table that shows the frequency of each data point in the data.\n",
    "    1. Understanding the general structure of the data\n",
    "    2. Determination most frequent data points\n",
    "    3. Comparing frequencies of different data points or groups in the data\n",
    "    - Example: **[1, 1, 2, 4, 24, 58, 2, 24, 1, 78]** has a frequency distribution of **[1: 3, 2: 2, 4: 1, 24: 2, 58: 1, 78: 1]**\n",
    "        | Data | Frequency |\n",
    "        | ---- | --------- |\n",
    "        | 1    | 3         |\n",
    "        | 2    | 2         |\n",
    "        | 4    | 1         |\n",
    "        | 24   | 2         |\n",
    "        | 58   | 1         |\n",
    "        | 78   | 1         |\n",
    "-   **Relative frequency** is the frequency of a data point divided by the total number of data points.\n",
    "    - **Relative frequency distribution** is a table that shows the relative frequency of each data point in the data.\n",
    "    1. Comparing distribution of data points between different data sets\n",
    "    2. Normalization of data not related to the size of the data set\n",
    "    3. Interpretations of the significance of certain observations in the context of the data set\n",
    "    - Example: **[1, 1, 2, 4, 24, 58, 2, 24, 1, 78]** has a relative frequency distribution of **[1: 0.3, 2: 0.2, 4: 0.1, 24: 0.2, 58: 0.1, 78: 0.1]**\n",
    "        | Data | Relative Frequency |\n",
    "        | ---- | ------------------ |\n",
    "        | 1    | 0.3                |\n",
    "        | 2    | 0.2                |\n",
    "        | 4    | 0.1                |\n",
    "        | 24   | 0.2                |\n",
    "        | 58   | 0.1                |\n",
    "        | 78   | 0.1                |"
   ]
  },
  {
   "cell_type": "code",
   "execution_count": 9,
   "metadata": {},
   "outputs": [],
   "source": [
    "def absolute_frequency(array):\n",
    "    freq = {}\n",
    "    for i in array:\n",
    "        if i in freq:\n",
    "            freq[i] += 1\n",
    "        else:\n",
    "            freq[i] = 1\n",
    "    return freq\n",
    "\n",
    "def relative_frequency(array):\n",
    "    freq = absolute_frequency(array)\n",
    "    for i in freq:\n",
    "        freq[i] /= len(array)\n",
    "    return freq"
   ]
  },
  {
   "cell_type": "markdown",
   "metadata": {},
   "source": [
    "### Scattering parameters\n",
    "\n",
    "they are used to describe the spread of the data.\n",
    "\n",
    "-  **Range** is the difference between the largest and smallest data point in the data.\n",
    "    - $range = max(data) - min(data)$\n",
    "-  **MAD** is the mean of the absolute difference between each data point and the mean of the data.\n",
    "    - $MAD = \\frac{\\sum_{i=1}^{n} |x_i - \\mu|}{n}$\n",
    "-  **Sum of Squared Deviations** is the sum of the squared difference between each data point and the mean of the data.\n",
    "    - $SSD = \\sum_{i=1}^{n} (x_i - \\mu)^2$\n",
    "\n",
    "    $\\fbox{\\text{MAD is better than SSD because it is not affected by the outliers}}$\n",
    "    $\\fbox{\\text{SSD is better where sensitivity to changes in data is required}}$\n",
    "\n",
    "-  **Variance** is the average of the squared difference between each data point and the mean of the data.\n",
    "    - $\\sigma^2 = \\frac{\\sum_{i=1}^{n} (x_i - \\mu)^2}{n}$ (population variance)\n",
    "    - $S^2 = \\frac{\\sum_{i=1}^{n} (x_i - \\mu)^2}{n-1}$ (sample variance)\n",
    "    - $\\mu$ is the mean of the data\n",
    "    - $n-1$ is the degrees of freedom, compensation potential bias in the sample variance because the sample is less than the population"
   ]
  },
  {
   "cell_type": "code",
   "execution_count": null,
   "metadata": {},
   "outputs": [],
   "source": [
    "def range(array):\n",
    "    return max(array) - min(array)\n",
    "\n",
    "def MAD(array):\n",
    "    len = len(array)\n",
    "    mean = sum(array) / len\n",
    "    return sum(abs(array[i] - mean) for i in range(len)) / len\n",
    "\n",
    "def SSD(array):\n",
    "    len = len(array)\n",
    "    mean = sum(array) / len\n",
    "    return sum((array[i] - mean) ** 2 for i in range(len))\n",
    "\n",
    "def variance(array, mode = 'population'):\n",
    "    len = len(array)\n",
    "    mean = sum(array) / len\n",
    "    if mode == 'population':\n",
    "        return sum((array[i] - mean) ** 2 for i in range(len)) / len\n",
    "    elif mode == 'sample':\n",
    "        return sum((array[i] - mean) ** 2 for i in range(len)) / (len - 1)"
   ]
  }
 ],
 "metadata": {
  "kernelspec": {
   "display_name": "Python 3",
   "language": "python",
   "name": "python3"
  },
  "language_info": {
   "codemirror_mode": {
    "name": "ipython",
    "version": 3
   },
   "file_extension": ".py",
   "mimetype": "text/x-python",
   "name": "python",
   "nbconvert_exporter": "python",
   "pygments_lexer": "ipython3",
   "version": "3.11.7"
  }
 },
 "nbformat": 4,
 "nbformat_minor": 2
}
